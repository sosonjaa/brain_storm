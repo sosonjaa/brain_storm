{
  "cells": [
    {
      "cell_type": "markdown",
      "source": [
        "# Assignment 01\n",
        "##### Python Basics I\n",
        "\n",
        "This tutorial was written by Terry Ruas (University of Göttingen). The references for external contributors for which this material was anyhow adapted/inspired are in the Acknowledgments section (end of the document).\n"
      ],
      "metadata": {
        "collapsed": false,
        "id": "LZgQdr4W6iKz"
      }
    },
    {
      "cell_type": "markdown",
      "source": [
        "## Task 01 – Hello World!\n",
        "Write a simple program that asks the user to input a name and outputs a simple greeting, such as ‘Hi Name! Nice to meet you!’ and in the other line, ‘Welcome to the Programing Course!’. \n",
        "\n",
        "*Hint: Check out the input () and print() function in Python.* "
      ],
      "metadata": {
        "collapsed": false,
        "id": "4GPUv_8U6iK1"
      }
    },
    {
      "cell_type": "code",
      "execution_count": null,
      "outputs": [
        {
          "output_type": "stream",
          "name": "stdout",
          "text": [
            "Enter your name: Chinaza\n",
            "Hi Chinaza Nice to meet you!\n",
            "Welcome to the pythionn programming course\n"
          ]
        }
      ],
      "source": [
        "Name = input(\"Enter your name: \") \n",
        "print(f'Hi {Name} Nice to meet you!\\nWelcome to the pythionn programming course' )"
      ],
      "metadata": {
        "id": "xt3XV0YD6iK2",
        "outputId": "cc9aadb1-d21d-435d-8603-72ff4601c0ae",
        "colab": {
          "base_uri": "https://localhost:8080/"
        }
      }
    },
    {
      "cell_type": "markdown",
      "source": [
        "## Task 02 – Reversed Words\n",
        "Write a program that reads in a word provided by the user and prints the word in a reversed order. For example, if the input is hello, the output should be ‘olleh’. \n",
        "\n",
        "- Use a loop structure \n",
        "- Use just array indexes \n"
      ],
      "metadata": {
        "collapsed": false,
        "id": "_Jz4T4AQ6iK3"
      }
    },
    {
      "cell_type": "code",
      "execution_count": null,
      "outputs": [
        {
          "output_type": "stream",
          "name": "stdout",
          "text": [
            "Enter a word:Chinaza\n",
            "azanihC\n"
          ]
        }
      ],
      "source": [
        "X = list(input('Enter a word:'))\n",
        "r_x = ''\n",
        "for i in range(len(X)-1,-1,-1):\n",
        "  r_x+=X[i]\n",
        "print(r_x)\n",
        "\n",
        "\n"
      ],
      "metadata": {
        "id": "aKLGcZ0_6iK3",
        "outputId": "df11c329-66fc-4155-b2bb-7e4e3705ce73",
        "colab": {
          "base_uri": "https://localhost:8080/"
        }
      }
    },
    {
      "cell_type": "markdown",
      "source": [
        "## Task 03 –  Fibonacci Numbers\n",
        "Write a program that reads in an upper bound (number) provided by the user and prints the sequence of Fibonacci numbers that are less or equal to the number given by the user. Use a while-loop for this task. \n",
        "\n",
        "The Fibonacci sequence is defined as \n",
        "$ F_{n}=F_{n−1}+F_{n−2}$. Use $F_{0}=0$ and $F_{1} = 1$ as seed values.  \n",
        "\n",
        "For example, if the user inputs 6, the output should be 0, 1, 1, 2, 3, 5. \n",
        "\n",
        "\n",
        "\n"
      ],
      "metadata": {
        "collapsed": false,
        "id": "PalhJ9x36iK4"
      }
    },
    {
      "cell_type": "code",
      "execution_count": null,
      "outputs": [
        {
          "output_type": "stream",
          "name": "stdout",
          "text": [
            "Enter a number: 10\n",
            "[0, 1, 1, 2, 3, 5, 8, 13, 21, 34]\n"
          ]
        }
      ],
      "source": [
        "\n",
        "num = int(input('Enter a number: '))\n",
        "f0 = 0\n",
        "f1 = 1\n",
        "counter = 2\n",
        "out = []\n",
        "if num == 1:\n",
        "  print(f0)\n",
        "elif num == 2:\n",
        "  print('{},{}'.format(f0,f1))\n",
        "else:\n",
        "  out.append(f0)\n",
        "  out.append(f1)\n",
        "  while counter<num:\n",
        "    curr_val = f0 + f1\n",
        "    f0 = f1\n",
        "    f1 = curr_val\n",
        "    out.append(f1)\n",
        "    counter+=1\n",
        "  print(out)"
      ],
      "metadata": {
        "id": "vm5UlcKB6iK4",
        "colab": {
          "base_uri": "https://localhost:8080/"
        },
        "outputId": "a7226f76-1581-4ce4-9746-7884c6338dc8"
      }
    },
    {
      "cell_type": "markdown",
      "source": [
        "## Task 04 – Selective Printing \n",
        "\n",
        "Write a program that reads in an upper bound (number) provided by the user and prints all integer numbers that are less or equal to the upper bound except the integer numbers that are divisible by 3. Use the continue statement. For example, if the user enters 6 as the upper bound, the output should be 0, 1, 2, 4, 5.  "
      ],
      "metadata": {
        "collapsed": false,
        "id": "JV1Mm9qA6iK5"
      }
    },
    {
      "cell_type": "code",
      "execution_count": null,
      "outputs": [
        {
          "output_type": "stream",
          "name": "stdout",
          "text": [
            "Enter a number: 10\n",
            "[0, 1, 2, 4, 5, 7, 8, 10]\n"
          ]
        }
      ],
      "source": [
        "num = int(input('Enter a number: '))\n",
        "out = [0]\n",
        "for i in range(0,num+1):\n",
        "  if i%3 == 0:\n",
        "    continue\n",
        "  out.append(i)\n",
        "print(out)"
      ],
      "metadata": {
        "id": "C3i7ctus6iK6",
        "colab": {
          "base_uri": "https://localhost:8080/"
        },
        "outputId": "9807ac46-2d62-4813-f0af-3f5d9aeec257"
      }
    },
    {
      "cell_type": "markdown",
      "source": [
        "## Task 05 – Triangle Checking   \n",
        "\n",
        "Write a Python program that asks the user to input the lengths of the sides in a triangle and outputs whether the triangle is equilateral, isosceles, or scalene. The program should also check for the Triangle inequality $(z < x + y)$,  and prompt the user for a valid input. \n",
        "\n",
        "- An equilateral triangle is a triangle in which all three sides are of equal length. \n",
        "- An isosceles triangle is a triangle with (at least) two sides of equal length. \n",
        "- A scalene triangle is a triangle in which all three sides have different lengths. \n",
        "\n",
        "For example, if the user inputs a=3, b=4, c=5, the triangle is scalene. \n"
      ],
      "metadata": {
        "collapsed": false,
        "id": "qz4P36Lz6iK6"
      }
    },
    {
      "cell_type": "code",
      "execution_count": null,
      "outputs": [
        {
          "output_type": "stream",
          "name": "stdout",
          "text": [
            "Enter three numbers seperated by spaces: 3 6 7\n",
            "This is a scalene triangle\n"
          ]
        }
      ],
      "source": [
        "a,b,c = input('Enter three numbers seperated by spaces: ').split(' ')\n",
        "if a==b and b==c:\n",
        "  print('This is an equilateral triangle')\n",
        "elif a==b or b==c or a==c:\n",
        "  print('This is an isoceles triangle')\n",
        "else:\n",
        "  print('This is a scalene triangle')"
      ],
      "metadata": {
        "id": "2c67p_Zc6iK7",
        "colab": {
          "base_uri": "https://localhost:8080/"
        },
        "outputId": "70011865-214a-4fe6-dfe8-0a42becfb6d7"
      }
    },
    {
      "cell_type": "markdown",
      "source": [
        "## Task 06 – Decimal to Octal Conversion \n",
        "\n",
        "Write a program that reads a non-negative integer number in the decimal representation provided by the user and prints the octal representation of the number. For example, if the user enters 167, the output should be 247.  \n",
        "\n",
        "Write a more general program that reads in a non-negative number (potentially including decimal places) in the decimal representation provided by the user and prints the octal representation of the number. For example, if the user enters 25.11, the output should be 31.0702436560507534. "
      ],
      "metadata": {
        "collapsed": false,
        "id": "k1kh3odh6iK7"
      }
    },
    {
      "cell_type": "code",
      "execution_count": null,
      "outputs": [
        {
          "output_type": "stream",
          "name": "stdout",
          "text": [
            "Enter a number: 23\n",
            "27\n"
          ]
        }
      ],
      "source": [
        "num = input('Enter a number: ')\n",
        "if '.'in num:\n",
        "  num = float(num)\n",
        "else:\n",
        "  num = int(num)\n",
        "print(oct(num).strip('0o'))\n",
        "\n"
      ],
      "metadata": {
        "id": "2-UCbTRQ6iK7",
        "colab": {
          "base_uri": "https://localhost:8080/"
        },
        "outputId": "a94e55c1-1d79-4aaf-9a50-25bf2c7b9e2f"
      }
    },
    {
      "cell_type": "markdown",
      "source": [
        "## Acknowledgements\n",
        "\n",
        "Redmond, Hsu, Saini, Gupta, Ramsey, Kondrich, Capoor, Cohen, Borus, Kincaid, Malik, and many others. - Stanford CS41"
      ],
      "metadata": {
        "collapsed": false,
        "id": "Wl9JCEYM6iK-"
      }
    },
    {
      "cell_type": "code",
      "source": [
        "def float_bin(number, places = 8):\n",
        "    whole, dec = str(number).split(\".\")\n",
        "    whole = int(whole)\n",
        "    dec = int (dec)\n",
        "    res = bin(whole).lstrip(\"0b\") + \".\"\n",
        "    for x in range(places):\n",
        "        whole, dec = str((decimal_converter(dec)) * 2).split(\".\")\n",
        "        dec = int(dec)\n",
        "        res += whole\n",
        "    return res\n",
        "def decimal_converter(num):\n",
        "    while num > 1:\n",
        "        num /= 10\n",
        "    return num\n",
        "n = input(\"Enter your floating point value : \\n\")\n",
        "p = int(input(\"Enter the number of decimal places of the result : \\n\"))\n",
        "print(float_bin(n, places = p))\n"
      ],
      "metadata": {
        "colab": {
          "base_uri": "https://localhost:8080/"
        },
        "id": "OwW1v_XpRYcc",
        "outputId": "88e981c3-82ae-428e-90c8-eb508c34a804"
      },
      "execution_count": 1,
      "outputs": [
        {
          "output_type": "stream",
          "name": "stdout",
          "text": [
            "Enter your floating point value : \n",
            "43.22\n",
            "Enter the number of decimal places of the result : \n",
            "8\n",
            "101011.00111011\n"
          ]
        }
      ]
    }
  ],
  "metadata": {
    "kernelspec": {
      "display_name": "Python 3",
      "language": "python",
      "name": "python3"
    },
    "language_info": {
      "codemirror_mode": {
        "name": "ipython",
        "version": 2
      },
      "file_extension": ".py",
      "mimetype": "text/x-python",
      "name": "python",
      "nbconvert_exporter": "python",
      "pygments_lexer": "ipython2",
      "version": "2.7.6"
    },
    "colab": {
      "provenance": []
    }
  },
  "nbformat": 4,
  "nbformat_minor": 0
}