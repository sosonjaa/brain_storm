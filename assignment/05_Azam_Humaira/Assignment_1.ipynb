{
 "cells": [
  {
   "cell_type": "code",
   "execution_count": 4,
   "id": "916885dd",
   "metadata": {},
   "outputs": [
    {
     "name": "stdout",
     "output_type": "stream",
     "text": [
      "Enter your name: humaira azam\n",
      "Hi humaira azam ! Nice to meet you!and in the other line,‘Welcome to the Programing Course!’\n"
     ]
    }
   ],
   "source": [
    "#Task 01–\n",
    "#Write a simple program that asks the user to input aname and outputs a simple greeting, \n",
    "#such as ‘Hi Name! Nice to meet you!’and in the other line,‘Welcome to the Programing Course!’. \n",
    "\n",
    "\n",
    "person = input(\"Enter your name: \")\n",
    "print(\"Hi\", person ,\"! Nice to meet you!and in the other line,‘Welcome to the Programing Course!’\")"
   ]
  },
  {
   "cell_type": "code",
   "execution_count": 1,
   "id": "650b5abe",
   "metadata": {},
   "outputs": [
    {
     "name": "stdout",
     "output_type": "stream",
     "text": [
      "olleh\n"
     ]
    }
   ],
   "source": [
    "#Task 02 –Reversed Words\n",
    "#Write a program that reads in a word provided by the user and prints the word in a reversed order. \n",
    "#For example, if the input is hello, the output should be ‘olleh’.\n",
    "#.a.Use a loop structure\n",
    "#.b.Use just array indexes\n",
    "\n",
    "\n",
    "\n",
    "def str_rev(text):\n",
    "    temp = \"\"\n",
    "    for char in text:\n",
    "        temp = char + temp\n",
    "    return temp\n",
    "\n",
    "\n",
    "print(str_rev(\"hello\"))"
   ]
  },
  {
   "cell_type": "code",
   "execution_count": 11,
   "id": "804fa156",
   "metadata": {},
   "outputs": [
    {
     "name": "stdout",
     "output_type": "stream",
     "text": [
      "Fibonacci sequence:\n",
      "0\n",
      "1\n",
      "1\n",
      "2\n",
      "3\n",
      "5\n"
     ]
    }
   ],
   "source": [
    "#Task 03 –Fibonacci Numbers\n",
    "#Write a program that reads in an upper bound (number) provided by the user and\n",
    "#prints the sequence of Fibonacci numbers that are less or equal to the number given by the user.\n",
    "#Use a while-loop for this task.The Fibonacci sequence is defined as 𝐹𝑛=𝐹𝑛−1+𝐹𝑛−2.\n",
    "#Use 𝐹0=0 and 𝐹1=1\n",
    "#as seed values. \n",
    "#For example, if the user inputs 6, the output should be 0, 1, 1, 2, 3, 5.\n",
    "\n",
    "# Program to display the Fibonacci sequence up to n-th term\n",
    "\n",
    "nterms = int(input(\"Number\"))\n",
    "\n",
    "# first two terms\n",
    "f0 , f1 = 0 , 1\n",
    "count = 0\n",
    "\n",
    "if nterms <= 0:\n",
    "   print(\"Number is not a positive Integer\")\n",
    "elif nterms == 1:\n",
    "   print(\"Fibonacci sequence upto\",nterms,\":\")\n",
    "   print(f0)\n",
    "else:\n",
    "   print(\"Fibonacci sequence:\")\n",
    "   while count < nterms:\n",
    "       print(f0)\n",
    "       nth = f0 + f1\n",
    "       f0 = f1\n",
    "       f1 = nth\n",
    "       if f0 > nterms:\n",
    "         break; \n",
    "       count += 1"
   ]
  },
  {
   "cell_type": "code",
   "execution_count": 12,
   "id": "0ae09498",
   "metadata": {},
   "outputs": [
    {
     "name": "stdout",
     "output_type": "stream",
     "text": [
      "0\n",
      "1\n",
      "2\n",
      "4\n",
      "5\n"
     ]
    }
   ],
   "source": [
    "#Task 04 –Selective Printing\n",
    "#Write a program that reads in an upper bound (number) provided by the user and prints all integer numbers that are less or \n",
    "#equal to the upper bound except the integer numbers that are divisible by 3. \n",
    "#Use the continue statement.\n",
    "#For example, if the user enters 6 as the upper bound, the output should be 0, 1, 2, 4, 5. \n",
    "\n",
    "number = int(input())\n",
    "\n",
    "x = 0\n",
    "print(x)\n",
    "\n",
    "while x <= number:\n",
    "\n",
    "    if(x % 3 != 0):\n",
    "        print(x)\n",
    "    x += 1"
   ]
  },
  {
   "cell_type": "code",
   "execution_count": 10,
   "id": "8066bc77",
   "metadata": {},
   "outputs": [
    {
     "name": "stdout",
     "output_type": "stream",
     "text": [
      "Isosceles Triangle\n"
     ]
    }
   ],
   "source": [
    "#Task 05- Task 05 –Triangle Checking\n",
    "#Write a Python program that asks the user to input the lengths of the sides in a triangle and \n",
    "#outputs whether the triangle is equilateral, isosceles, or scalene. \n",
    "#The program should also check for the Triangle inequality(𝑧<𝑥+𝑦), and prompt the user for a valid input.........\n",
    "\n",
    "# Python program for the above approach\n",
    "# Function to check if the triangle\n",
    "# is equilateral or isosceles or scalene\n",
    "def checkTriangle(a, b, c):\n",
    " \n",
    "    # Check for equilateral triangle\n",
    "    if a == b == c:\n",
    "        print(\"Equilateral Triangle\")\n",
    " \n",
    "    # Check for isosceles triangle\n",
    "    elif a == b or b == c or c == a:\n",
    "        print(\"Isosceles Triangle\")\n",
    " \n",
    "    # Otherwise scalene triangle\n",
    "    else:\n",
    "        print(\"Scalene Triangle\")\n",
    " \n",
    " \n",
    "\n",
    "# Given sides of triangle\n",
    "a = 5\n",
    "b = 5\n",
    "c = 9\n",
    " \n",
    "checkTriangle(a, b, c)"
   ]
  },
  {
   "cell_type": "code",
   "execution_count": 15,
   "id": "2925c5da",
   "metadata": {},
   "outputs": [
    {
     "name": "stdout",
     "output_type": "stream",
     "text": [
      "247.0"
     ]
    }
   ],
   "source": [
    "#Task 06 –Decimal to Octal Conversion\n",
    "#Write a program that reads a non-negative integer number in the decimal representation provided by the user and \n",
    "#prints the octal representation of the number.\n",
    "#For example, if the user enters 167, the output should be 247. \n",
    "\n",
    "  \n",
    "def decToOctal(n):\n",
    "\n",
    "    octalNum = [0] * 100\n",
    "    i = 0\n",
    "    while (n != 0):\n",
    "\n",
    "        octalNum[i] = n % 8\n",
    "        n = int(n / 8)\n",
    "        i += 1\n",
    "        \n",
    "    for j in range(i - 1, -1, -1):\n",
    "        print(octalNum[j], end=\"\")\n",
    "\n",
    "print('Enter a number')\n",
    "n = float(input())\n",
    "  \n",
    "decToOctal(n)\n",
    "  \n",
    "    "
   ]
  }
 ],
 "metadata": {
  "kernelspec": {
   "display_name": "Python 3.10.6 64-bit",
   "language": "python",
   "name": "python3"
  },
  "language_info": {
   "codemirror_mode": {
    "name": "ipython",
    "version": 3
   },
   "file_extension": ".py",
   "mimetype": "text/x-python",
   "name": "python",
   "nbconvert_exporter": "python",
   "pygments_lexer": "ipython3",
   "version": "3.10.6"
  },
  "vscode": {
   "interpreter": {
    "hash": "cd39f247873b8244650859dc21ddc4420fbbd20ab71c4a3d9742e431d46c77b6"
   }
  }
 },
 "nbformat": 4,
 "nbformat_minor": 5
}
