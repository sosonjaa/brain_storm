{
  "cells": [
    {
      "cell_type": "markdown",
      "source": [
        "# Assignment 03\n",
        "#### Python Basics III - Functions and Classes\n",
        "\n",
        "This tutorial was written by Terry L. Ruas (University of Göttingen). The references for external contributors for which this material was anyhow adapted/inspired are in the Acknowledgments section (end of the document)."
      ],
      "metadata": {
        "collapsed": false,
        "id": "3i7Q6MM_7a82"
      }
    },
    {
      "cell_type": "markdown",
      "source": [
        "This notebook will cover the following tasks:\n",
        "\n",
        "1. Dictionary\n",
        "2. Classes"
      ],
      "metadata": {
        "collapsed": false,
        "id": "eKtTDCOS7a83"
      }
    },
    {
      "cell_type": "markdown",
      "source": [
        "## Task 01 – Dictionary\n",
        "Imagine you have to write a (very simple) bookkeepingsystem for a bank that keeps track of the account balances of each of its customers.\n",
        "1. Write a function that spans a dictionary holding a default balance of 0 for an initial list of customers. For simplicity, assume customer names are unique identifier.  (optional) Can you express that same functionality using a lambda function?\n",
        "2. What are elegant ways to add or remove single and multiple customers using the functionality of dict?\n",
        "3. Now write two simple functions that allow you to deposit and withdraw money for a given bank customer.\n",
        "4. Include error messages for inputs that are not permissible, e.g., withdrawing negative amounts or overdrawing the account, etc."
      ],
      "metadata": {
        "collapsed": false,
        "id": "XumFInmh7a85"
      }
    },
    {
      "cell_type": "code",
      "execution_count": 15,
      "outputs": [
        {
          "output_type": "stream",
          "name": "stdout",
          "text": [
            "{'humaira': 0, 'chenaza': 0, 'sana': 0}\n"
          ]
        }
      ],
      "source": [
        "#1.1\n",
        "def create_dict(Customers_list):\n",
        "   cust_Balances = {};\n",
        "   for i in range(len(Customers_list)):\n",
        "    cust_Balances.update({Customers_list[i]: 0})\n",
        "   return cust_Balances\n",
        "\n",
        "# method using lambda\n",
        "def create_dict_Lambda(Customers_list):\n",
        "    cust_Balances = dict(map(lambda i: (Customers_list[i],0), range(len(Customers_list))))\n",
        "    return cust_Balances\n",
        "\n",
        "customers = ['humaira','chenaza','sana']\n",
        "customer_Balances = create_dict(customers)\n",
        "print(customer_Balances)"
      ],
      "metadata": {
        "id": "aEr0j2IX7a85",
        "colab": {
          "base_uri": "https://localhost:8080/"
        },
        "outputId": "b7917c55-c10d-40fb-f8e7-0919167c33a5"
      }
    },
    {
      "cell_type": "code",
      "source": [
        "customer_Balances"
      ],
      "metadata": {
        "colab": {
          "base_uri": "https://localhost:8080/"
        },
        "id": "ciJqp6pBs_oB",
        "outputId": "97342978-404f-44a4-9835-cf15b56d4d85"
      },
      "execution_count": 9,
      "outputs": [
        {
          "output_type": "execute_result",
          "data": {
            "text/plain": [
              "{'humaira': 0}"
            ]
          },
          "metadata": {},
          "execution_count": 9
        }
      ]
    },
    {
      "cell_type": "code",
      "source": [
        "#1.2\n",
        "cust_Balance = 'farwa'\n",
        "customer_Balances[cust_Balance] = 10\n",
        "customer_Balances.update({'tasmia': 100,'Ali':200})\n",
        "print(customer_Balances)\n",
        "customer_Balances.pop('tasmia')\n",
        "print(customer_Balances)"
      ],
      "metadata": {
        "colab": {
          "base_uri": "https://localhost:8080/"
        },
        "id": "6UJPMsq3yNGR",
        "outputId": "a82bcd8f-7d4c-42da-bd98-21fa05b00c23"
      },
      "execution_count": 28,
      "outputs": [
        {
          "output_type": "stream",
          "name": "stdout",
          "text": [
            "{'humaira': 0, 'chenaza': 0, 'sana': 0, 'Ali': 200, 'david': 10, 'farwa': 10, 'tasmia': 100}\n",
            "{'humaira': 0, 'chenaza': 0, 'sana': 0, 'Ali': 200, 'david': 10, 'farwa': 10}\n"
          ]
        }
      ]
    },
    {
      "cell_type": "code",
      "source": [
        "#1.3,#1.4\n",
        "def checkCustAmount(customers_Balance_parm, customer, amount):\n",
        "   \n",
        "   if customer not in customers_Balance_parm:\n",
        "      print(f'customer {customer} not exist')\n",
        "      return False;\n",
        "   elif type(amount) != int and type(amount) != float:\n",
        "      print('amount is not in correct format')\n",
        "      return False;\n",
        "   elif amount < 0:\n",
        "      print('invalid amount')\n",
        "      return False\n",
        "   else:\n",
        "      return True\n",
        "\n",
        "def deposit(customers_Balance_parm, customer, amount):\n",
        "    if checkCustAmount(customers_Balance_parm, customer, amount):\n",
        "        customers_Balance_parm[customer] += amount\n",
        "        print('Amount Deposited')       \n",
        "    return customers_Balance_parm \n",
        "   \n",
        "def withdraw(customers_Balance_parm, customer, amount):\n",
        "    if amount > customers_Balance_parm[customer]:\n",
        "        print('Amount Overdue')\n",
        "    elif checkCustAmount (customers_Balance_parm, customer, amount):\n",
        "        customers_Balance_parm[customer] -= amount\n",
        "        print('Amount Withdrawn')\n",
        "    return customers_Balance_parm"
      ],
      "metadata": {
        "id": "dnBVrTOOxV5n"
      },
      "execution_count": 45,
      "outputs": []
    },
    {
      "cell_type": "code",
      "source": [
        "print(customer_Balances)\n",
        "customer_Balances = deposit(customer_Balances, 'farwa', 50)\n",
        "customer_Balances = deposit(customer_Balances, 'humaira', 68)\n",
        "print(customer_Balances)\n",
        "customer_Balances = withdraw(customer_Balances, 'farwa', 25)\n",
        "customer_Balances = withdraw(customer_Balances, 'humaira', 48)\n",
        "print(customer_Balances)"
      ],
      "metadata": {
        "colab": {
          "base_uri": "https://localhost:8080/"
        },
        "id": "fuxCYmY9zWP1",
        "outputId": "86de5366-abd4-4da1-da12-36c3ee21b829"
      },
      "execution_count": 47,
      "outputs": [
        {
          "output_type": "stream",
          "name": "stdout",
          "text": [
            "{'humaira': 60, 'chenaza': 0, 'sana': 0, 'Ali': 200, 'david': 10, 'farwa': 85}\n",
            "Amount Deposited\n",
            "Amount Deposited\n",
            "{'humaira': 128, 'chenaza': 0, 'sana': 0, 'Ali': 200, 'david': 10, 'farwa': 135}\n",
            "Amount Withdrawn\n",
            "Amount Withdrawn\n",
            "{'humaira': 80, 'chenaza': 0, 'sana': 0, 'Ali': 200, 'david': 10, 'farwa': 110}\n"
          ]
        }
      ]
    },
    {
      "cell_type": "markdown",
      "source": [
        "\n",
        "## Task 02 – Classes\n",
        "The manager thinks that the simple bookkeeping system you have built is not powerful enough. She requests that you start from scratch and use classes instead.\n",
        "1. Write a simple class with appropriate constructor *\\_\\_init\\_\\_* that initializes an object of class *Customer* tracking the same information as in Task 01.\n",
        "2. Now write two simple methods for class *Customer* that allow you to deposit and withdraw money for a given customer object.\n",
        "3. Include error messages for inputs that are not permissible, e.g., withdrawing negative amounts or overdrawing the account.\n",
        "4. (Inheritance) Write a child class *SavingsCustomer* that inherits its features from the parent class *Customer*. A savings customer has an extra savings balance for receiving extra interest. The class should have a method to transfer money back and forth between the accounts' main balance as well as the savings balance. Do not forget to add reasonable error messages."
      ],
      "metadata": {
        "collapsed": false,
        "id": "9tMOI3tn7a86"
      }
    },
    {
      "cell_type": "code",
      "execution_count": 65,
      "outputs": [],
      "source": [
        "class Customer:\n",
        "    def __init__(self,name): # 2.1\n",
        "        self.balance = 0\n",
        "        self.name = name\n",
        "    # 2.2\n",
        "    def deposit(self, amount):\n",
        "        if amount < 0:\n",
        "            raise ValueError(\"Amount must be positive\")\n",
        "        self.balance += amount\n",
        "\n",
        "    def withdraw(self, amount):\n",
        "        if amount < 0:\n",
        "            raise ValueError(\"Amount must be positive\")      \n",
        "        if amount > self.balance:\n",
        "            raise ValueError(\"Insufficient balance\")\n",
        "        self.balance -= amount\n",
        "\n",
        "# 2.4\n",
        "class SavingsCustomer(Customer):\n",
        "    def __init__(self,name):\n",
        "        super().__init__(name) # calling parent consturctor \n",
        "        self.savings_balance = 0\n",
        "\n",
        "    def TransferToSaving(self, ammount):\n",
        "        if ammount < 0:\n",
        "            raise ValueError(\"Amount must be positive\")\n",
        "        \n",
        "        if ammount > self.balance:\n",
        "            raise ValueError(\"Insufficient funds\")\n",
        "        \n",
        "        self.balance -= ammount\n",
        "        self.savings_balance += ammount\n",
        "\n",
        "    def TransferToMain(self, ammount):\n",
        "        if ammount < 0:\n",
        "            raise ValueError(\"Amount must be positive\")\n",
        "        if ammount > self.savings_balance:\n",
        "            raise ValueError(\"Insufficient funds\")\n",
        "        \n",
        "        self.balance += ammount\n",
        "        self.savings_balance -= ammount\n",
        "\n",
        "    def get_interest(self, interest_rate) :\n",
        "        self.savings_balance += self.savings_balance * interest_rate * 1; \n",
        "\n",
        "#Here's the simple interest formula: Interest = P x R x T.\n",
        "#P = Principal amount (the beginning balance).\n",
        "#R = Interest rate (usually per year, expressed as a decimal).\n",
        "#T = Number of time periods (generally one-year time periods).\n"
      ],
      "metadata": {
        "id": "mcZ6wBOO7a86"
      }
    },
    {
      "cell_type": "code",
      "source": [
        "cust = Customer('Ali')\n",
        "print(cust.balance)\n",
        "cust.deposit((400))\n",
        "print(cust.balance)\n",
        "cust.withdraw(42)\n",
        "print(cust.balance)\n",
        "\n",
        "cust2 = SavingsCustomer('Ahmed');\n",
        "print (cust2.name)\n",
        "print(cust2.balance)\n",
        "cust2.deposit((400))\n",
        "print(cust2.balance)\n",
        "cust2.withdraw(42)\n",
        "print(cust.balance)\n",
        "cust2.TransferToSaving(40)\n",
        "print(cust2.savings_balance)\n",
        "cust2.get_interest(0.1)\n",
        "print(cust2.savings_balance)"
      ],
      "metadata": {
        "colab": {
          "base_uri": "https://localhost:8080/"
        },
        "id": "D9k-wU4nnceM",
        "outputId": "5fbb3ca0-ca86-46fa-d4cb-2a6d38e3179a"
      },
      "execution_count": 66,
      "outputs": [
        {
          "output_type": "stream",
          "name": "stdout",
          "text": [
            "0\n",
            "400\n",
            "358\n",
            "Ahmed\n",
            "0\n",
            "400\n",
            "358\n",
            "40\n",
            "44.0\n"
          ]
        }
      ]
    }
  ],
  "metadata": {
    "kernelspec": {
      "display_name": "Python 3",
      "language": "python",
      "name": "python3"
    },
    "language_info": {
      "codemirror_mode": {
        "name": "ipython",
        "version": 2
      },
      "file_extension": ".py",
      "mimetype": "text/x-python",
      "name": "python",
      "nbconvert_exporter": "python",
      "pygments_lexer": "ipython2",
      "version": "2.7.6"
    },
    "colab": {
      "provenance": []
    }
  },
  "nbformat": 4,
  "nbformat_minor": 0
}
