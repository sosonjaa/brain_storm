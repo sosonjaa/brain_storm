{
  "cells": [
    {
      "cell_type": "markdown",
      "source": [
        "# Assignment 02\n",
        "##### Python Basics II\n",
        "\n",
        "This tutorial was written by Terry Ruas (University of Göttingen); The references for external contributors for which this material was anyhow adapted/inspired are in the Acknowledgments section (end of the document).\n"
      ],
      "metadata": {
        "collapsed": false,
        "id": "LZgQdr4W6iKz"
      }
    },
    {
      "cell_type": "markdown",
      "source": [
        "This notebook will cover the following tasks:\n",
        "\n",
        "1. String Length\n",
        "2. Largest List Element\n",
        "3. Character Frequency\n",
        "4. Sorted List of Tuples\n",
        "5. Check Brackets\n",
        "6. Check Brackets II\n",
        "7. Queue\n",
        "8. Unlimited Power\n",
        "9. Unlimited Power II"
      ],
      "metadata": {
        "collapsed": false,
        "id": "Yvektzz_6iK1"
      }
    },
    {
      "cell_type": "markdown",
      "source": [
        "## Task 01 – String Length\n",
        "Write a program that reads in a string and prints the length of the input string. Do not use any built-in functions of Python, such as len().\n",
        "For example, if the input is “Computer Science”, the output should be length: 16."
      ],
      "metadata": {
        "collapsed": false,
        "id": "4GPUv_8U6iK1"
      }
    },
    {
      "cell_type": "code",
      "source": [
        "def fl(string):\n",
        "    return sum( 1 for i in string);\n",
        "  \n",
        "string = 'Computer science'\n",
        "print(fl(string))"
      ],
      "metadata": {
        "colab": {
          "base_uri": "https://localhost:8080/"
        },
        "id": "pXhC_SGPUFpS",
        "outputId": "e1ed05bf-fa4d-4724-e04f-366b448e0f61"
      },
      "execution_count": null,
      "outputs": [
        {
          "output_type": "stream",
          "name": "stdout",
          "text": [
            "16\n"
          ]
        }
      ]
    },
    {
      "cell_type": "markdown",
      "source": [
        "## Task 02 – Largest List Element\n",
        "Write a program that generates a list of 10 random integers between 1 and 100 and then finds and prints the largest element in the list. Do not use the built-in function max().\n",
        "For example, if the input is [23,3,42,29,12,15,8,4,37,34], the output should be the largest element: 42.\n",
        "\n",
        "Hint: Check out the module [random](https://docs.python.org/3.7/library/random.html)."
      ],
      "metadata": {
        "collapsed": false,
        "id": "_Jz4T4AQ6iK3"
      }
    },
    {
      "cell_type": "code",
      "execution_count": null,
      "outputs": [
        {
          "output_type": "stream",
          "name": "stdout",
          "text": [
            "[79, 95, 97, 33, 48, 2, 20, 10, 60, 74]\n",
            "97\n"
          ]
        }
      ],
      "source": [
        "import random\n",
        "\n",
        "mylist = []\n",
        "\n",
        "for i in range(0,10):\n",
        "    x = random.randint(1,100)\n",
        "    mylist.append(x)\n",
        "\n",
        "print(mylist)\n",
        "\n",
        "maxNum = -1\n",
        "for i in mylist:\n",
        "    if i > maxNum:\n",
        "        maxNum = i\n",
        "\n",
        "print(maxNum)\n"
      ],
      "metadata": {
        "id": "aKLGcZ0_6iK3",
        "colab": {
          "base_uri": "https://localhost:8080/"
        },
        "outputId": "0e153045-66a3-44d6-82a2-6e549a66739f"
      }
    },
    {
      "cell_type": "markdown",
      "source": [
        "## Task 03 – Character Frequency\n",
        "Write a program that:\n",
        "* Reads in a string and removes any spaces from the string\n",
        "* Counts how often individual characters occur in the string\n",
        "* Stores the information on character occurrence frequency in a dictionary\n",
        "* Prints the dictionary.\n",
        "\n",
        "For example, if the input is “santa claus”, the output should be:\n",
        "{'s': 2, 'a': 3, 'n': 1, 't': 1, 'c': 1, 'l': 1, 'u': 1}."
      ],
      "metadata": {
        "collapsed": false,
        "id": "PalhJ9x36iK4"
      }
    },
    {
      "cell_type": "code",
      "execution_count": null,
      "outputs": [
        {
          "output_type": "stream",
          "name": "stdout",
          "text": [
            "{'s': 2, 'a': 3, 'n': 1, 't': 1, 'c': 1, 'l': 1, 'u': 1}\n"
          ]
        }
      ],
      "source": [
        "def char_frequency(str1):\n",
        "    dict = {}\n",
        "\n",
        "    for n in str1:\n",
        "        if n != ' ':\n",
        "          keys = dict.keys()\n",
        "          if n in keys:\n",
        "              dict[n] += 1\n",
        "          else:\n",
        "              dict[n] = 1\n",
        "    return dict\n",
        "print(char_frequency('santa claus'))"
      ],
      "metadata": {
        "id": "vm5UlcKB6iK4",
        "colab": {
          "base_uri": "https://localhost:8080/"
        },
        "outputId": "5fcd5156-142b-4eaf-ed8a-f12cc5c7782e"
      }
    },
    {
      "cell_type": "markdown",
      "source": [
        "## Task 04 – Sorted List of Tuples\n",
        "Write a program that:\n",
        "* Generates a list of 10 tuples, each tuple consisting of 3 random integers between 1 and 100\n",
        "* Sorts the list of tuples in increasing order of the third element in each tuple\n",
        "* Prints the sorted list of tuples\n",
        "\n",
        "For example, if the generated input list is: [(56, 77, 69), (43, 30, 38), (2, 77, 101), (93, 57, 4), (74, 21, 77), (39, 68, 68), (65, 53, 96), (16, 29, 88), (88, 70, 38)]\n",
        "The output should be: [(93, 57, 4), (43, 30, 38), (88, 70, 38), (39, 68, 68), (56, 77, 69), (74, 21, 77), (16, 29, 88), (65, 53, 96), (2, 77, 101)]\n",
        "\n",
        "Hint: You are allowed and encouraged to use built-in functions, such as [sorted()](https://docs.python.org/3.7/library/functions.html?highlight=sorted#sorted), for this task."
      ],
      "metadata": {
        "collapsed": false,
        "id": "JV1Mm9qA6iK5"
      }
    },
    {
      "cell_type": "code",
      "execution_count": null,
      "outputs": [
        {
          "output_type": "stream",
          "name": "stdout",
          "text": [
            "[(91, 75, 79), (91, 75, 79), (91, 75, 79), (7, 63, 6), (7, 63, 6), (7, 63, 6), (95, 17, 67), (95, 17, 67), (95, 17, 67)]\n",
            "Sorted:\n",
            "[(7, 63, 6), (7, 63, 6), (7, 63, 6), (95, 17, 67), (95, 17, 67), (95, 17, 67), (91, 75, 79), (91, 75, 79), (91, 75, 79)]\n"
          ]
        }
      ],
      "source": [
        "from random import randint\n",
        "b = []\n",
        "for _ in range(3):\n",
        "    b += [(randint(1, 101), randint(1, 101), randint(1, 101))]*3\n",
        "print(b)\n",
        "\n",
        "\n",
        "def last(n):\n",
        "    return n[-1] \n",
        "  \n",
        "def sort(tuples):\n",
        "    return sorted(tuples, key=last)\n",
        "  \n",
        "a=[(b)]\n",
        "print(\"Sorted:\")\n",
        "print(sort(b))"
      ],
      "metadata": {
        "id": "C3i7ctus6iK6",
        "colab": {
          "base_uri": "https://localhost:8080/"
        },
        "outputId": "45dedf50-7c2b-466c-ab38-5e0e6bf24555"
      }
    },
    {
      "cell_type": "markdown",
      "source": [
        "## Task 05 – Check Brackets\n",
        "Write a program that reads in a string, which is supposed to be a mathematical expression. Focus on brackets only and check whether left and right brackets are composed correctly. Ignore all other characters (i.e. you don’t have to check correctness of operators and operands).\n",
        "Examples of correct input:\n",
        "* 3*(2+5)\n",
        "* ((()())())\n",
        "* (3+)(((4)))\n",
        "* Empty string\n",
        "\n",
        "Examples of incorrect input:\n",
        "* (3*(2+5)\n",
        "* ((()())(())\n",
        "* (3+)((4)))\n",
        "* ())(()\n"
      ],
      "metadata": {
        "collapsed": false,
        "id": "qz4P36Lz6iK6"
      }
    },
    {
      "cell_type": "code",
      "execution_count": null,
      "outputs": [],
      "source": [
        "exp = input()\n",
        "\n",
        "count = 0\n",
        "correct = True\n",
        "for i in exp:\n",
        "  if i == \"(\":\n",
        "    count +=1\n",
        "  elif i == \")\":\n",
        "    count -=1\n",
        "    \n",
        "    if count < 0:\n",
        "      correct = False\n",
        "if not(count == 0 and correct):\n",
        "  correct = False\n",
        "print (correct)\n"
      ],
      "metadata": {
        "id": "2c67p_Zc6iK7"
      }
    },
    {
      "cell_type": "markdown",
      "source": [
        "## Task 06 – Check Brackets II\n",
        "Extend previous program, so it can handle also square and curly brackets. Note that expressions in brackets cannot overlap. So, expression ```{[()()]([[]])}{}``` is correct, but expression ```([)]``` is not."
      ],
      "metadata": {
        "collapsed": false,
        "id": "k1kh3odh6iK7"
      }
    },
    {
      "cell_type": "code",
      "execution_count": null,
      "outputs": [
        {
          "output_type": "stream",
          "name": "stdout",
          "text": [
            "Correct\n"
          ]
        }
      ],
      "source": [
        "def areBracketsBalanced(expr):\n",
        "    stack = []\n",
        " \n",
        "    for char in expr:\n",
        "        if char in [\"(\", \"{\", \"[\"]:\n",
        " \n",
        "            stack.append(char)\n",
        "        else:\n",
        "            if not stack:\n",
        "                return False\n",
        "            current_char = stack.pop()\n",
        "            if current_char == '(':\n",
        "                if char != \")\":\n",
        "                    return False\n",
        "            if current_char == '{':\n",
        "                if char != \"}\":\n",
        "                    return False\n",
        "            if current_char == '[':\n",
        "                if char != \"]\":\n",
        "                    return False\n",
        "    if stack:\n",
        "        return False\n",
        "    return True\n",
        " \n",
        "if __name__ == \"__main__\":\n",
        "    expr = \"{()}[]\"\n",
        " \n",
        "    if areBracketsBalanced(expr):\n",
        "        print(\"Correct\")\n",
        "    else:\n",
        "        print(\"Incorrect\")"
      ],
      "metadata": {
        "id": "2-UCbTRQ6iK7",
        "colab": {
          "base_uri": "https://localhost:8080/"
        },
        "outputId": "a49a1310-8936-4d0c-bf08-29a86234a0f4"
      }
    },
    {
      "cell_type": "markdown",
      "source": [
        "## Task 07 – Queue\n",
        "Write a program that simulates a queue. It will read strings from the input. Consider these inputs as names of people coming to the end of a queue. Whenever “next” is given as input, the program will print out the name on the turn. The program finishes as soon as the queue is empty."
      ],
      "metadata": {
        "collapsed": false,
        "id": "tc-8rPlP6iK7"
      }
    },
    {
      "cell_type": "code",
      "execution_count": 4,
      "outputs": [
        {
          "output_type": "stream",
          "name": "stdout",
          "text": [
            "Humaira\n",
            "Azam\n",
            "next\n",
            "Humaira\n",
            "next\n",
            "Azam\n"
          ]
        }
      ],
      "source": [
        "userInp = input()\n",
        "que = [userInp]\n",
        "while (len(que) != 0):\n",
        "  userInp = input()\n",
        "  if userInp == \"next\":\n",
        "    print(que[0])\n",
        "    del que[0]\n",
        "  else:\n",
        "    que.append(userInp)"
      ],
      "metadata": {
        "id": "X0o04N6s6iK7",
        "colab": {
          "base_uri": "https://localhost:8080/"
        },
        "outputId": "5a6ea1f2-d4f0-4068-e435-7b8c38ce7896"
      }
    },
    {
      "cell_type": "markdown",
      "source": [
        "## Task 08 – Unlimited Power\n",
        "Write a function with two arguments – $x$ and $n$. The function returns the value of $x^n$. Use [recursion](https://realpython.com/python-thinking-recursively/#recursive-data-structures-in-python)."
      ],
      "metadata": {
        "collapsed": false,
        "id": "eIhaN3g36iK8"
      }
    },
    {
      "cell_type": "code",
      "execution_count": 6,
      "outputs": [
        {
          "output_type": "execute_result",
          "data": {
            "text/plain": [
              "16"
            ]
          },
          "metadata": {},
          "execution_count": 6
        }
      ],
      "source": [
        "\n",
        "def power(x, n):\n",
        "    if n == 0:\n",
        "        return 1\n",
        "    elif n == 1:\n",
        "        return x \n",
        "    else:\n",
        "        result = x * (power(x,n-1))\n",
        "    return result\n",
        "    \n",
        "power(2,4)"
      ],
      "metadata": {
        "id": "KSGHEAeL6iK8",
        "colab": {
          "base_uri": "https://localhost:8080/"
        },
        "outputId": "b8cbb4b8-ccd5-4674-863a-e3d0ea5660aa"
      }
    },
    {
      "cell_type": "markdown",
      "source": [
        "## Task 09 – Unlimited Power II\n",
        "Using function for factorial and function $x^n$ from previous task, write a program that reads value of $x$ and prints approximate value of $e^x$. Use this formula (Taylor series) for calculation\n",
        "$$ e^x = 1 + x + \\frac{x^2}{2!} + \\frac{x^3}{3!} + ... + \\frac{x^n}{n!} $$\n",
        "\n",
        "To get precise value of $e^x$, the series would have to be infinite. Suppose that there is some required accuracy, so the calculation finishes as soon as the value of the next element is smaller than given threshold (e.g., 0.000001)."
      ],
      "metadata": {
        "collapsed": false,
        "id": "WBh2WBXY6iK8"
      }
    },
    {
      "cell_type": "code",
      "execution_count": 13,
      "outputs": [
        {
          "output_type": "execute_result",
          "data": {
            "text/plain": [
              "1.0"
            ]
          },
          "metadata": {},
          "execution_count": 13
        }
      ],
      "source": [
        "def factorial(n):\n",
        "    result = 1\n",
        "    if n == 0:\n",
        "        return 1\n",
        "    else:\n",
        "        for i in range(1, n+1):\n",
        "            result = result*i\n",
        "    return result\n",
        "\n",
        "def expon(x):\n",
        "    val = 1\n",
        "    result = 0\n",
        "    i = 0\n",
        "    while val > 0.000001:\n",
        "        val = power(x,i)/factorial(i)\n",
        "        result += val\n",
        "        i += 1\n",
        "    return result\n",
        "\n",
        "expon(0)"
      ],
      "metadata": {
        "id": "tRaZgBVX6iK9",
        "colab": {
          "base_uri": "https://localhost:8080/"
        },
        "outputId": "8ec1a5e8-ead3-4066-b506-e4a3e838c91c"
      }
    },
    {
      "cell_type": "markdown",
      "source": [
        "## Acknowledgements\n",
        "\n",
        "Redmond, Hsu, Saini, Gupta, Ramsey, Kondrich, Capoor, Cohen, Borus, Kincaid, Malik, and many others. - Stanford CS41"
      ],
      "metadata": {
        "collapsed": false,
        "id": "Wl9JCEYM6iK-"
      }
    },
    {
      "cell_type": "code",
      "execution_count": null,
      "outputs": [],
      "source": [],
      "metadata": {
        "id": "Bx-WQj4v6iK-"
      }
    }
  ],
  "metadata": {
    "kernelspec": {
      "display_name": "Python 3",
      "language": "python",
      "name": "python3"
    },
    "language_info": {
      "codemirror_mode": {
        "name": "ipython",
        "version": 2
      },
      "file_extension": ".py",
      "mimetype": "text/x-python",
      "name": "python",
      "nbconvert_exporter": "python",
      "pygments_lexer": "ipython2",
      "version": "2.7.6"
    },
    "colab": {
      "provenance": []
    }
  },
  "nbformat": 4,
  "nbformat_minor": 0
}
