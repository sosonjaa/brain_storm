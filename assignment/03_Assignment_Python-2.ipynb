{
 "cells": [
  {
   "cell_type": "markdown",
   "metadata": {
    "id": "3i7Q6MM_7a82"
   },
   "source": [
    "# Assignment 03\n",
    "#### Python Basics III - Functions and Classes\n",
    "\n",
    "This tutorial was written by Terry L. Ruas (University of Göttingen). The references for external contributors for which this material was anyhow adapted/inspired are in the Acknowledgments section (end of the document)."
   ]
  },
  {
   "cell_type": "markdown",
   "metadata": {
    "id": "eKtTDCOS7a83"
   },
   "source": [
    "This notebook will cover the following tasks:\n",
    "\n",
    "1. Dictionary\n",
    "2. Classes"
   ]
  },
  {
   "cell_type": "markdown",
   "metadata": {
    "id": "XumFInmh7a85"
   },
   "source": [
    "## Task 01 – Dictionary\n",
    "Imagine you have to write a (very simple) bookkeepingsystem for a bank that keeps track of the account balances of each of its customers.\n",
    "1. Write a function that spans a dictionary holding a default balance of 0 for an initial list of customers. For simplicity, assume customer names are unique identifier.  (optional) Can you express that same functionality using a lambda function?\n",
    "2. What are elegant ways to add or remove single and multiple customers using the functionality of dict?\n",
    "3. Now write two simple functions that allow you to deposit and withdraw money for a given bank customer.\n",
    "4. Include error messages for inputs that are not permissible, e.g., withdrawing negative amounts or overdrawing the account, etc."
   ]
  },
  {
   "cell_type": "code",
   "execution_count": 17,
   "metadata": {
    "id": "aEr0j2IX7a85"
   },
   "outputs": [
    {
     "name": "stdout",
     "output_type": "stream",
     "text": [
      "1000\n",
      "{'anna': 0, 'bruno': 0, 'laura': 0, 'billy': 0, 'sophie': 0, 'leo': 40}\n",
      "{'anna': 100, 'bruno': 0, 'laura': 0, 'billy': 0, 'sophie': 0, 'leo': 40}\n",
      "{'anna': 100, 'bruno': 0, 'laura': 0, 'billy': 0, 'sophie': 0, 'leo': 30}\n"
     ]
    }
   ],
   "source": [
    "# 1\n",
    "customers = [\"sarah\", \"leo\", \"anna\", \"bruno\", \"janet\"]\n",
    "def balance_0():\n",
    "    global accounts\n",
    "    accounts = dict((name,0) for name in customers)\n",
    "    #print(accounts)\n",
    "balance_0()\n",
    "    \n",
    "\n",
    "# 2\n",
    "del accounts[\"sarah\"]\n",
    "#print(\"deletes customer:    \" + str(accounts)) \n",
    "\n",
    "remove_list = [\"leo\", \"janet\"]\n",
    "for key in remove_list:\n",
    "    del accounts[key]\n",
    "#print(\"deletes customers:   \"+ str(accounts))\n",
    "\n",
    "accounts[\"laura\"]= 0       \n",
    "#print(\"appends customer:    \" + str(accounts))\n",
    "\n",
    "accounts.update({\"billy\": 0, \"sophie\": 0})\n",
    "#print(\"appends customers:   \" + str(accounts)) \n",
    "\n",
    "#print(accounts)\n",
    "\n",
    "accounts.update({\"sarah\":1000, \"leo\": 40})\n",
    "#print(accounts)\n",
    "\n",
    "removed_amount = accounts.pop('sarah')\n",
    "print(removed_amount)\n",
    "print(accounts)\n",
    "\n",
    "\n",
    "# 3\n",
    "def deposit(dictionary, key, amount):\n",
    "    dictionary[key] += amount\n",
    "    return dictionary\n",
    "\n",
    "def withdraw(dictionary, key, amount):\n",
    "    dictionary[key] -= amount\n",
    "    return dictionary\n",
    "\n",
    "accounts = deposit(accounts,'anna',100)\n",
    "print(accounts)\n",
    "    \n",
    "accounts = withdraw(accounts,'leo',10)\n",
    "print(accounts)\n",
    "\n",
    "\n",
    "# 4\n",
    "def deposit(dictionary,key,amount):\n",
    "    if amount < 0:\n",
    "        raise RuntimeError('Cannot deposit negative amount.')\n",
    "    dictionary[key] += amount\n",
    "    return dictionary\n",
    "\n",
    "def withdraw(dictionary,key,amount):\n",
    "    if dictionary[key] < amount:\n",
    "        raise RuntimeError('Amount requested is greater than available balance.')\n",
    "    if amount < 0:\n",
    "        raise RuntimeError('Cannot withdraw negative amount.')\n",
    "    dictionary[key] -= amount\n",
    "    return dictionary\n",
    "\n",
    "#accounts = deposit(accounts,'anna',-1)\n",
    "\n",
    "#accounts = withdraw(accounts,'anna',-1)\n",
    "\n",
    "#accounts = withdraw(accounts,'anna',1000)  "
   ]
  },
  {
   "cell_type": "markdown",
   "metadata": {
    "id": "9tMOI3tn7a86"
   },
   "source": [
    "## Task 02 – Classes\n",
    "The manager thinks that the simple bookkeeping system you have built is not powerful enough. She requests that you start from scratch and use classes instead.\n",
    "1. Write a simple class with appropriate constructor *\\_\\_init\\_\\_* that initializes an object of class *Customer* tracking the same information as in Task 01.\n",
    "2. Now write two simple methods for class *Customer* that allow you to deposit and withdraw money for a given customer object.\n",
    "3. Include error messages for inputs that are not permissible, e.g., withdrawing negative amounts or overdrawing the account.\n",
    "4. (Inheritance) Write a child class *SavingsCustomer* that inherits its features from the parent class *Customer*. A savings customer has an extra savings balance for receiving extra interest. The class should have a method to transfer money back and forth between the accounts' main balance as well as the savings balance. Do not forget to add reasonable error messages."
   ]
  },
  {
   "cell_type": "code",
   "execution_count": 33,
   "metadata": {
    "id": "mcZ6wBOO7a86"
   },
   "outputs": [
    {
     "name": "stdout",
     "output_type": "stream",
     "text": [
      "0.0\n",
      "10000000\n",
      "16745293\n",
      "1000000.0\n",
      "999990.0\n",
      "100.0\n",
      "80.0\n",
      "0.0\n",
      "10.0\n",
      "80.0\n",
      "0.0\n"
     ]
    }
   ],
   "source": [
    "# 1\n",
    "\n",
    "class Customer(object):\n",
    "    def __init__(self, name, balance=0.0):\n",
    "        self.name = name\n",
    "        self.balance = balance\n",
    "        \n",
    "andrea = Customer('andrea')\n",
    "print(andrea.balance)\n",
    "        \n",
    "andrea = Customer('andrea',10000000)\n",
    "print(andrea.balance)\n",
    "\n",
    "andrea = Customer(16745293)\n",
    "print(andrea.name)\n",
    "\n",
    "\n",
    "# 2\n",
    "class Customer(object):\n",
    "    def __init__(self, name, balance=0.0):\n",
    "        self.name = name\n",
    "        self.balance = balance\n",
    "        \n",
    "    def withdraw(self, amount):\n",
    "        self.balance -= amount\n",
    "        return self.balance\n",
    "    \n",
    "    def deposit(self, amount):\n",
    "        self.balance += amount\n",
    "        return self.balance\n",
    "    \n",
    "andrea = Customer('andrea')\n",
    "\n",
    "andrea.deposit(1000000)\n",
    "print(andrea.balance)\n",
    "\n",
    "andrea.withdraw(10)\n",
    "print(andrea.balance)\n",
    "\n",
    "\n",
    "# 3\n",
    "class Customer(object):\n",
    "    def __init__(self, name, balance=0.0):\n",
    "        self.name = name\n",
    "        self.balance = balance\n",
    "        \n",
    "    def withdraw(self, amount):\n",
    "        if amount > self.balance:\n",
    "            raise RuntimeError('Amount requested is greater than available balance.')\n",
    "        if amount < 0:\n",
    "            raise RuntimeError('Cannot withdraw negative amount.')\n",
    "        self.balance -= amount\n",
    "        return self.balance\n",
    "    \n",
    "    def deposit(self, amount):\n",
    "        if amount < 0:\n",
    "            raise RuntimeError('Cannot deposit negative amount.')\n",
    "        self.balance += amount\n",
    "        return self.balance\n",
    "    \n",
    "andrea = Customer('andrea')\n",
    "\n",
    "#andrea.deposit(-10)\n",
    "\n",
    "#andrea.deposit(10)\n",
    "#print(andrea.balance)\n",
    "\n",
    "#andrea.withdraw(-20)\n",
    "\n",
    "#andrea.withdraw(20)\n",
    "#print(andrea.balance)\n",
    "\n",
    "\n",
    "# 4\n",
    "class SavingsCustomer(Customer):\n",
    "    def __init__(self, name, balance=0.0, savings=0.0):\n",
    "        self.name = name\n",
    "        self.balance = balance\n",
    "        self.savings = savings\n",
    "        \n",
    "    def transfer(self, amount):\n",
    "        if -amount > self.savings:\n",
    "            raise RuntimeError('You do not have enough savings to transfer that amount.')\n",
    "        if amount > self.balance:\n",
    "            raise RuntimeError('You do not have enough money to transfer this amount to your savings account.')\n",
    "        self.balance -= amount\n",
    "        self.savings += amount\n",
    "        return self.balance, self.savings\n",
    "    \n",
    "bob = SavingsCustomer('bob')\n",
    "\n",
    "# Features of parent Customer working:\n",
    "bob.deposit(100)\n",
    "print(bob.balance)\n",
    "bob.withdraw(20)\n",
    "print(bob.balance)\n",
    "\n",
    "print(bob.savings)\n",
    "\n",
    "bob.transfer(10)\n",
    "print(bob.savings)\n",
    "\n",
    "#bob.transfer(-20)\n",
    "\n",
    "current_balance, current_savings = bob.transfer(-10)    # we can accept two returned values\n",
    "print(current_balance)\n",
    "print(current_savings)"
   ]
  }
 ],
 "metadata": {
  "colab": {
   "provenance": []
  },
  "kernelspec": {
   "display_name": "Python 3 (ipykernel)",
   "language": "python",
   "name": "python3"
  },
  "language_info": {
   "codemirror_mode": {
    "name": "ipython",
    "version": 3
   },
   "file_extension": ".py",
   "mimetype": "text/x-python",
   "name": "python",
   "nbconvert_exporter": "python",
   "pygments_lexer": "ipython3",
   "version": "3.10.6"
  }
 },
 "nbformat": 4,
 "nbformat_minor": 4
}
