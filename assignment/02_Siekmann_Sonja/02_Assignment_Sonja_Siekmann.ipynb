{
 "cells": [
  {
   "cell_type": "code",
   "execution_count": 7,
   "id": "05c46980-963e-4e38-838f-9bd0b74184e9",
   "metadata": {},
   "outputs": [
    {
     "name": "stdin",
     "output_type": "stream",
     "text": [
      "word:  gf\n"
     ]
    },
    {
     "name": "stdout",
     "output_type": "stream",
     "text": [
      "The length of the word is: 2\n"
     ]
    }
   ],
   "source": [
    "# Assignment 02\n",
    "\n",
    "# Task 1\n",
    "word = str(input((\"word: \")))\n",
    "\n",
    "count = 0\n",
    "for x in word:\n",
    "    count += 1\n",
    "    \n",
    "print(f'The length of the word is: {count}')"
   ]
  },
  {
   "cell_type": "code",
   "execution_count": 8,
   "id": "62bd01c9-ced6-487f-8b27-de83ac416bfe",
   "metadata": {},
   "outputs": [
    {
     "name": "stdout",
     "output_type": "stream",
     "text": [
      "[67, 68, 31, 60, 55, 20, 27, 3, 48, 31]\n",
      "68\n"
     ]
    }
   ],
   "source": [
    "# Task 2\n",
    "\n",
    "import random\n",
    "ten_times = range(10)\n",
    "numbers = []\n",
    "\n",
    "for x in ten_times:\n",
    "    numbers.append(random.randint(1, 100))\n",
    "    \n",
    "max = numbers[0]\n",
    "for number in numbers:\n",
    "    if number > max:\n",
    "        max = number\n",
    "        \n",
    "print(numbers)\n",
    "print(max)"
   ]
  },
  {
   "cell_type": "code",
   "execution_count": 9,
   "id": "ecf43e5b-8078-438c-ba8e-7e96c6124102",
   "metadata": {},
   "outputs": [
    {
     "name": "stdout",
     "output_type": "stream",
     "text": [
      "[77, 19, 24, 14, 79, 15, 45, 96, 17, 11]\n"
     ]
    }
   ],
   "source": [
    "# Task 2 - alternative\n",
    "\n",
    "from random import *\n",
    "\n",
    "count = 0\n",
    "numbers = []\n",
    "\n",
    "while count != 10:\n",
    "    numbers.append(randint(1,100))\n",
    "    count += 1\n",
    "\n",
    "print(numbers)"
   ]
  },
  {
   "cell_type": "code",
   "execution_count": 11,
   "id": "cbff09ea-d579-47be-afc6-366adb37f855",
   "metadata": {},
   "outputs": [
    {
     "name": "stdin",
     "output_type": "stream",
     "text": [
      "word:  df sdfs dsf\n"
     ]
    },
    {
     "name": "stdout",
     "output_type": "stream",
     "text": [
      "dfsdfsdsf\n"
     ]
    }
   ],
   "source": [
    "# Task 3\n",
    "\n",
    "word = input(\"word: \")\n",
    "\n",
    "def remove(word):\n",
    "     return word.replace(\" \", \"\")\n",
    "\n",
    "no_spaces = (remove(word))\n",
    "print(no_spaces)\n",
    "\n",
    "#def char_frequency(word):\n",
    " #   character_occurence = {}\n",
    "  #  for i in no_spaces:   \n",
    "        "
   ]
  },
  {
   "cell_type": "code",
   "execution_count": 48,
   "id": "29eb015c-cc2e-4bcb-9527-3c04e17352e3",
   "metadata": {},
   "outputs": [
    {
     "name": "stdout",
     "output_type": "stream",
     "text": [
      "tup_list:\n",
      "[(13, 59, 65), (93, 54, 59), (76, 90, 62), (51, 3, 33), (21, 29, 27), (76, 52, 2), (41, 18, 56), (19, 14, 56), (51, 13, 74), (98, 11, 7)]\n",
      " \n",
      "The sorted tup_list is: \n",
      "[(76, 52, 2), (98, 11, 7), (21, 29, 27), (51, 3, 33), (41, 18, 56), (19, 14, 56), (93, 54, 59), (76, 90, 62), (13, 59, 65), (51, 13, 74)]\n"
     ]
    }
   ],
   "source": [
    "# Task 4\n",
    "\n",
    "from random import *\n",
    "from operator import itemgetter\n",
    "\n",
    "tup_list = list(tuple((randint(1,100), randint(1,100), randint(1,100)) for n in range(1,11)))\n",
    "print(\"tup_list:\\n\"+ str(tup_list))\n",
    "\n",
    "print(f' \\nThe sorted tup_list is: \\n{sorted(tup_list, key=itemgetter(-1))}')"
   ]
  },
  {
   "cell_type": "code",
   "execution_count": 54,
   "id": "f080e5ae-f458-46c6-a9a6-ae8ba5026de5",
   "metadata": {},
   "outputs": [
    {
     "name": "stdin",
     "output_type": "stream",
     "text": [
      "Mathematical expression:  3*(2+5))))\n"
     ]
    },
    {
     "name": "stdout",
     "output_type": "stream",
     "text": [
      "Incorrect input!\n"
     ]
    }
   ],
   "source": [
    "# Task 5\n",
    "\n",
    "# Write a program that reads in a string, which is supposed to be a mathematical expression.\n",
    "# Focus on brackets only and check whether left and right brackets are composed correctly.\n",
    "# Ignore all other characters (i.e. you don’t have to check correctness of operators and operands). \n",
    "\n",
    "# check whether gleich viele ( wie )\n",
    "\n",
    "user_input = str(input(\"Mathematical expression: \"))\n",
    "\n",
    "for a in user_input:\n",
    "     a = user_input.count(\"(\")\n",
    "for b in user_input:\n",
    "     b = user_input.count(\")\")\n",
    "\n",
    "if a == b:\n",
    "    print(\"Correct input!\")\n",
    "else:\n",
    "    print(\"Incorrect input!\")"
   ]
  },
  {
   "cell_type": "code",
   "execution_count": 3,
   "id": "d2b98be2-ccb9-4de3-8da2-cbd2be46bb57",
   "metadata": {},
   "outputs": [
    {
     "name": "stdin",
     "output_type": "stream",
     "text": [
      "Mathematical expression:  ({)}\n"
     ]
    },
    {
     "name": "stdout",
     "output_type": "stream",
     "text": [
      "Correct input!\n"
     ]
    }
   ],
   "source": [
    "# Task 6\n",
    "\n",
    "# Extend previous program, so it can handle also square and curly brackets.\n",
    "# Note that expressions in brackets cannot overlap.\n",
    "# So, expression {[()()]([[]])}{} is correct, but expression ([)] is not.\n",
    "\n",
    "user_input = str(input(\"Mathematical expression: \"))\n",
    "\n",
    "for a in user_input:\n",
    "    a = user_input.count(\"(\")\n",
    "for b in user_input:\n",
    "    b = user_input.count(\")\")\n",
    "for c in user_input:\n",
    "    c = user_input.count(\"[\")\n",
    "for d in user_input:\n",
    "    d = user_input.count(\"]\")\n",
    "for e in user_input:\n",
    "    e = user_input.count(\"{\")\n",
    "for f in user_input:\n",
    "    f = user_input.count(\"}\")\n",
    "    \n",
    "if a==b and c==d and e==f:\n",
    "    \n",
    "    print(\"Correct input!\")\n",
    "    \n",
    "else:\n",
    "    print(\"Incorrect input!\")"
   ]
  },
  {
   "cell_type": "code",
   "execution_count": 26,
   "id": "03d2cd24-843f-48d6-bdc3-e9ad6a29fbe2",
   "metadata": {},
   "outputs": [
    {
     "name": "stdin",
     "output_type": "stream",
     "text": [
      "Mathematical expression:  {[()()]([[]])}{}\n"
     ]
    },
    {
     "name": "stdout",
     "output_type": "stream",
     "text": [
      "Korrekt\n"
     ]
    }
   ],
   "source": [
    "# Task 6 version 2\n",
    "\n",
    "user_input = str(input(\"Mathematical expression: \"))\n",
    "#for i in user_input:\n",
    " #   if (\"(\",\")\",\"[\",\"]\",\"{\",\"}\") \n",
    "\n",
    "while True:\n",
    "    new_string = user_input\n",
    "    user_input = user_input.replace(\"()\", \"\")\n",
    "    user_input = user_input.replace(\"[]\", \"\")\n",
    "    user_input = user_input.replace(\"{}\", \"\")\n",
    "    if user_input == \"\":\n",
    "        print(\"Korrekt\")\n",
    "        break\n",
    "    if new_string == user_input:\n",
    "        print(\"String ist falsch\")\n",
    "        break"
   ]
  },
  {
   "cell_type": "code",
   "execution_count": 8,
   "id": "f7578cdd-06df-406a-a1dc-16f9d77153b3",
   "metadata": {},
   "outputs": [
    {
     "name": "stdin",
     "output_type": "stream",
     "text": [
      "Please provide an input (your name or \"next\"): \n",
      " sd\n"
     ]
    },
    {
     "name": "stdout",
     "output_type": "stream",
     "text": [
      "Hey there sd, please wait in the queue. Your current position is: 5.\n"
     ]
    },
    {
     "name": "stdin",
     "output_type": "stream",
     "text": [
      "Please provide an input (your name or \"next\"): \n",
      " asd\n"
     ]
    },
    {
     "name": "stdout",
     "output_type": "stream",
     "text": [
      "Hey there asd, please wait in the queue. Your current position is: 6.\n"
     ]
    },
    {
     "name": "stdin",
     "output_type": "stream",
     "text": [
      "Please provide an input (your name or \"next\"): \n",
      " asd\n"
     ]
    },
    {
     "name": "stdout",
     "output_type": "stream",
     "text": [
      "Hey there asd, please wait in the queue. Your current position is: 7.\n"
     ]
    },
    {
     "name": "stdin",
     "output_type": "stream",
     "text": [
      "Please provide an input (your name or \"next\"): \n",
      " asdf\n"
     ]
    },
    {
     "name": "stdout",
     "output_type": "stream",
     "text": [
      "Hey there asdf, please wait in the queue. Your current position is: 8.\n"
     ]
    },
    {
     "name": "stdin",
     "output_type": "stream",
     "text": [
      "Please provide an input (your name or \"next\"): \n",
      " next\n"
     ]
    },
    {
     "name": "stdout",
     "output_type": "stream",
     "text": [
      "john, it's your turn!\n"
     ]
    },
    {
     "name": "stdin",
     "output_type": "stream",
     "text": [
      "Please provide an input (your name or \"next\"): \n",
      " next\n"
     ]
    },
    {
     "name": "stdout",
     "output_type": "stream",
     "text": [
      "Mary, it's your turn!\n"
     ]
    },
    {
     "name": "stdin",
     "output_type": "stream",
     "text": [
      "Please provide an input (your name or \"next\"): \n",
      " next\n"
     ]
    },
    {
     "name": "stdout",
     "output_type": "stream",
     "text": [
      "Wobbles, it's your turn!\n"
     ]
    },
    {
     "name": "stdin",
     "output_type": "stream",
     "text": [
      "Please provide an input (your name or \"next\"): \n",
      " next\n"
     ]
    },
    {
     "name": "stdout",
     "output_type": "stream",
     "text": [
      "Sky, it's your turn!\n"
     ]
    },
    {
     "name": "stdin",
     "output_type": "stream",
     "text": [
      "Please provide an input (your name or \"next\"): \n",
      " next\n"
     ]
    },
    {
     "name": "stdout",
     "output_type": "stream",
     "text": [
      "sd, it's your turn!\n"
     ]
    },
    {
     "name": "stdin",
     "output_type": "stream",
     "text": [
      "Please provide an input (your name or \"next\"): \n",
      " next\n"
     ]
    },
    {
     "name": "stdout",
     "output_type": "stream",
     "text": [
      "asd, it's your turn!\n"
     ]
    },
    {
     "name": "stdin",
     "output_type": "stream",
     "text": [
      "Please provide an input (your name or \"next\"): \n",
      " next\n"
     ]
    },
    {
     "name": "stdout",
     "output_type": "stream",
     "text": [
      "asd, it's your turn!\n"
     ]
    },
    {
     "name": "stdin",
     "output_type": "stream",
     "text": [
      "Please provide an input (your name or \"next\"): \n",
      " next\n"
     ]
    },
    {
     "name": "stdout",
     "output_type": "stream",
     "text": [
      "asdf, it's your turn!\n",
      "\n",
      " We are closed today, thanks for comin in, bye bye!\n"
     ]
    }
   ],
   "source": [
    "# Task 7\n",
    "\n",
    "# Write a program that simulates a queue. It will read strings from the input.\n",
    "# Consider these inputs as names of people coming to the end of a queue.\n",
    "# Whenever “next” is given as input, the program will print out the name on the turn.\n",
    "# The program finishes as soon as the queue is empty.\n",
    "\n",
    "queue = [\"john\", \"Mary\", \"Wobbles\", \"Sky\"]\n",
    "\n",
    "while len(queue) > 0:\n",
    "    user_input = input(str('Please provide an input (your name or \"next\"): \\n'))\n",
    "    if user_input == \"next\":\n",
    "        print(f\"{queue[0]}, it's your turn!\")\n",
    "        queue.pop(0)\n",
    "    else:\n",
    "        queue.append(user_input)\n",
    "        print(f\"Hey there {user_input}, please wait in the queue. Your current position is: {len(queue)}.\")\n",
    "print(\"\\n We are closed today, thanks for comin in, bye bye!\")"
   ]
  },
  {
   "cell_type": "code",
   "execution_count": 28,
   "id": "46bf6ea8-c14c-4551-8eb8-6e6c367670ff",
   "metadata": {},
   "outputs": [
    {
     "name": "stdout",
     "output_type": "stream",
     "text": [
      "8\n"
     ]
    }
   ],
   "source": [
    "# Task 8\n",
    "\n",
    "# Write a function with two arguments –  𝑥  and  𝑛 . The function returns the value of x^n . Use recursion.\n",
    "\n",
    "def potency(x, n):\n",
    "    if n == 0:\n",
    "        return 1\n",
    "    if n == 1:\n",
    "        return x\n",
    "    else:\n",
    "        return x * potency(x,n-1)\n",
    "\n",
    "print(potency(2,3))"
   ]
  },
  {
   "cell_type": "code",
   "execution_count": 40,
   "id": "0cae34d6-c9ba-4a34-b2fa-5444d26fade9",
   "metadata": {},
   "outputs": [
    {
     "name": "stdout",
     "output_type": "stream",
     "text": [
      "403.4287933734004\n"
     ]
    }
   ],
   "source": [
    "# Task 9\n",
    "\n",
    "# Using function for factorial and function  𝑥𝑛  from previous task, write a program that reads value of  𝑥 \n",
    "# and prints approximate value of  𝑒𝑥 . Use this formula (Taylor series) for calculation\n",
    "# To get precise value of  𝑒𝑥 , the series would have to be infinite. Suppose that there is some required accuracy, \n",
    "# so the calculation finishes as soon as the value of the next element is smaller than given threshold (e.g., 0.000001).\n",
    "\n",
    "from math import factorial\n",
    "\n",
    "#def factorial(n):\n",
    " #   l = n-1\n",
    "  #  while n != 0:\n",
    "   #     result = n * l\n",
    "    #    l -= 1\n",
    "     #   return result\n",
    "\n",
    "#print(factorial(4))\n",
    "\n",
    "\n",
    "def taylor(x):\n",
    "    n = 0\n",
    "    division = 1\n",
    "    result = 1\n",
    "    \n",
    "    while division >= 0.000001:\n",
    "        n += 1\n",
    "        division = potency(x,n)/factorial(n)\n",
    "        result += division\n",
    "    return result\n",
    "print(taylor(6))"
   ]
  },
  {
   "cell_type": "code",
   "execution_count": null,
   "id": "ef988699-48b7-4bc3-9ea8-150a3a9192f5",
   "metadata": {},
   "outputs": [],
   "source": []
  }
 ],
 "metadata": {
  "kernelspec": {
   "display_name": "Python 3 (ipykernel)",
   "language": "python",
   "name": "python3"
  },
  "language_info": {
   "codemirror_mode": {
    "name": "ipython",
    "version": 3
   },
   "file_extension": ".py",
   "mimetype": "text/x-python",
   "name": "python",
   "nbconvert_exporter": "python",
   "pygments_lexer": "ipython3",
   "version": "3.10.6"
  }
 },
 "nbformat": 4,
 "nbformat_minor": 5
}
