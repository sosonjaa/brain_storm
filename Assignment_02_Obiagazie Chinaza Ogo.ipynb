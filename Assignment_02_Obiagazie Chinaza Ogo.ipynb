{
  "cells": [
    {
      "cell_type": "markdown",
      "source": [
        "# Assignment 02\n",
        "##### Python Basics II\n",
        "\n",
        "This tutorial was written by Terry Ruas (University of Göttingen); The references for external contributors for which this material was anyhow adapted/inspired are in the Acknowledgments section (end of the document).\n"
      ],
      "metadata": {
        "collapsed": false,
        "id": "LZgQdr4W6iKz"
      }
    },
    {
      "cell_type": "markdown",
      "source": [
        "This notebook will cover the following tasks:\n",
        "\n",
        "1. String Length\n",
        "2. Largest List Element\n",
        "3. Character Frequency\n",
        "4. Sorted List of Tuples\n",
        "5. Check Brackets\n",
        "6. Check Brackets II\n",
        "7. Queue\n",
        "8. Unlimited Power\n",
        "9. Unlimited Power II"
      ],
      "metadata": {
        "collapsed": false,
        "id": "Yvektzz_6iK1"
      }
    },
    {
      "cell_type": "markdown",
      "source": [
        "## Task 01 – String Length\n",
        "Write a program that reads in a string and prints the length of the input string. Do not use any built-in functions of Python, such as len().\n",
        "For example, if the input is “Computer Science”, the output should be length: 16."
      ],
      "metadata": {
        "collapsed": false,
        "id": "4GPUv_8U6iK1"
      }
    },
    {
      "cell_type": "code",
      "execution_count": null,
      "outputs": [
        {
          "output_type": "stream",
          "name": "stdout",
          "text": [
            "Enter a string: I AM FINE\n",
            "Length : 9\n"
          ]
        }
      ],
      "source": [
        "str = input(\"Enter a string: \")\n",
        "# counter variable to count the character in a string\n",
        "counter = 0\n",
        "for s in str:\n",
        "      counter = counter+1\n",
        "print(\"Length :\", counter)"
      ],
      "metadata": {
        "id": "xt3XV0YD6iK2",
        "outputId": "a965c515-c5aa-48f4-94db-ca28fc56e2ec",
        "colab": {
          "base_uri": "https://localhost:8080/"
        }
      }
    },
    {
      "cell_type": "markdown",
      "source": [
        "## Task 02 – Largest List Element\n",
        "Write a program that generates a list of 10 random integers between 1 and 100 and then finds and prints the largest element in the list. Do not use the built-in function max().\n",
        "For example, if the input is [23,3,42,29,12,15,8,4,37,34], the output should be the largest element: 42.\n",
        "\n",
        "Hint: Check out the module [random](https://docs.python.org/3.7/library/random.html)."
      ],
      "metadata": {
        "collapsed": false,
        "id": "_Jz4T4AQ6iK3"
      }
    },
    {
      "cell_type": "code",
      "execution_count": null,
      "outputs": [
        {
          "output_type": "stream",
          "name": "stdout",
          "text": [
            "74\n",
            "[2, 6, 26, 42, 46, 48, 56, 64, 64, 74]\n"
          ]
        }
      ],
      "source": [
        "import random\n",
        "list=[]\n",
        "n=10\n",
        "for i in range(n):\n",
        "    list.append(random.randint(1,100))\n",
        "max = sorted(list)\n",
        "def highestNumber(l):\n",
        "    max = l[0]\n",
        "    for num in l:\n",
        "        if max < num:\n",
        "            max = num\n",
        "    return max\n",
        "\n",
        "\n",
        "print(highestNumber(list))\n",
        "print(max)\n"
      ],
      "metadata": {
        "id": "aKLGcZ0_6iK3",
        "outputId": "be106c73-2a44-4169-c297-fad0cb861036",
        "colab": {
          "base_uri": "https://localhost:8080/"
        }
      }
    },
    {
      "cell_type": "markdown",
      "source": [
        "## Task 03 – Character Frequency\n",
        "Write a program that:\n",
        "* Reads in a string and removes any spaces from the string\n",
        "* Counts how often individual characters occur in the string\n",
        "* Stores the information on character occurrence frequency in a dictionary\n",
        "* Prints the dictionary.\n",
        "\n",
        "For example, if the input is “santa claus”, the output should be:\n",
        "{'s': 2, 'a': 3, 'n': 1, 't': 1, 'c': 1, 'l': 1, 'u': 1}."
      ],
      "metadata": {
        "collapsed": false,
        "id": "PalhJ9x36iK4"
      }
    },
    {
      "cell_type": "code",
      "execution_count": 42,
      "outputs": [
        {
          "output_type": "stream",
          "name": "stdout",
          "text": [
            "Enter a string: heloo lady how are you\n",
            "helooladyhowareyou\n",
            "{'h': 2, 'e': 2, 'l': 2, 'o': 4, ' ': 4, 'a': 2, 'd': 1, 'y': 2, 'w': 1, 'r': 1, 'u': 1}\n"
          ]
        }
      ],
      "source": [
        "sentence  = input(\"Enter a string: \")\n",
        "\n",
        "print(sentence.replace(\" \",\"\"))\n",
        "\n",
        "def char_frequency(sentence):\n",
        "    dict = {}\n",
        "    for n in sentence:\n",
        "        keys = dict.keys()\n",
        "        if n in keys:\n",
        "            dict[n] += 1\n",
        "        else:\n",
        "            dict[n] = 1\n",
        "    return dict\n",
        "print(char_frequency(sentence))\n",
        "\n"
      ],
      "metadata": {
        "id": "vm5UlcKB6iK4",
        "colab": {
          "base_uri": "https://localhost:8080/"
        },
        "outputId": "f1efcd87-e694-4b6e-db97-66eb5cd4735c"
      }
    },
    {
      "cell_type": "code",
      "source": [],
      "metadata": {
        "id": "rKfqxRqetDvp"
      },
      "execution_count": 34,
      "outputs": []
    },
    {
      "cell_type": "markdown",
      "source": [
        "## Task 04 – Sorted List of Tuples\n",
        "Write a program that:\n",
        "* Generates a list of 10 tuples, each tuple consisting of 3 random integers between 1 and 100\n",
        "* Sorts the list of tuples in increasing order of the third element in each tuple\n",
        "* Prints the sorted list of tuples\n",
        "\n",
        "For example, if the generated input list is: [(56, 77, 69), (43, 30, 38), (2, 77, 101), (93, 57, 4), (74, 21, 77), (39, 68, 68), (65, 53, 96), (16, 29, 88), (88, 70, 38)]\n",
        "The output should be: [(93, 57, 4), (43, 30, 38), (88, 70, 38), (39, 68, 68), (56, 77, 69), (74, 21, 77), (16, 29, 88), (65, 53, 96), (2, 77, 101)]\n",
        "\n",
        "Hint: You are allowed and encouraged to use built-in functions, such as [sorted()](https://docs.python.org/3.7/library/functions.html?highlight=sorted#sorted), for this task."
      ],
      "metadata": {
        "collapsed": false,
        "id": "JV1Mm9qA6iK5"
      }
    },
    {
      "cell_type": "code",
      "execution_count": 60,
      "outputs": [
        {
          "output_type": "stream",
          "name": "stdout",
          "text": [
            "[(4, 84, 3), (4, 84, 3), (99, 91, 21), (99, 91, 21), (22, 18, 27), (22, 18, 27), (58, 52, 53), (58, 52, 53), (5, 87, 77), (5, 87, 77)]\n"
          ]
        }
      ],
      "source": [
        "\n",
        "from random import randint\n",
        "my_numbers = [value for _ in range(5)\n",
        "for value in [(randint(0, 100), randint(0, 100), randint(0, 100))] *2]\n",
        "sorted_numbers = sorted(my_numbers, key=lambda tup: tup[2])\n",
        "print(sorted_numbers)"
      ],
      "metadata": {
        "id": "C3i7ctus6iK6",
        "colab": {
          "base_uri": "https://localhost:8080/"
        },
        "outputId": "1c04ffde-d8f8-4559-fd68-f4d68407a4d3"
      }
    },
    {
      "cell_type": "markdown",
      "source": [
        "## Task 05 – Check Brackets\n",
        "Write a program that reads in a string, which is supposed to be a mathematical expression. Focus on brackets only and check whether left and right brackets are composed correctly. Ignore all other characters (i.e. you don’t have to check correctness of operators and operands).\n",
        "Examples of correct input:\n",
        "* 3*(2+5)\n",
        "* ((()())())\n",
        "* (3+)(((4)))\n",
        "* Empty string\n",
        "\n",
        "Examples of incorrect input:\n",
        "* (3*(2+5)\n",
        "* ((()())(())\n",
        "* (3+)((4)))\n",
        "* ())(()\n"
      ],
      "metadata": {
        "collapsed": false,
        "id": "qz4P36Lz6iK6"
      }
    },
    {
      "cell_type": "code",
      "execution_count": 63,
      "outputs": [],
      "source": [],
      "metadata": {
        "id": "2c67p_Zc6iK7"
      }
    },
    {
      "cell_type": "code",
      "source": [
        "string = input()\n",
        "open_list = [\"[\",\"{\",\"(\"]\n",
        "close_list = [\"]\",\"}\",\")\"]\n",
        "def check(myStr):\n",
        "    sentence = []\n",
        "    for i in myStr:\n",
        "        if i in open_list:\n",
        "            sentence.append(i)\n",
        "        elif i in close_list:\n",
        "            coo = close_list.index(i)\n",
        "            if ((len(sentence) > 0) and\n",
        "                (open_list[coo] == sentence[len(sentence)-1])):\n",
        "                sentence.pop()\n",
        "            else:\n",
        "                return \"Unbalanced\"\n",
        "    if len(sentence) == 0:\n",
        "        return \"Balanced\"\n",
        "    else:\n",
        "        return \"Unbalanced\"\n",
        "\n",
        "\n",
        "print(string,\"-\", check(string))\n"
      ],
      "metadata": {
        "colab": {
          "base_uri": "https://localhost:8080/"
        },
        "id": "c-pE-WRRcRX0",
        "outputId": "decdb24e-d9fb-46d3-948f-f8fee93a0240"
      },
      "execution_count": 73,
      "outputs": [
        {
          "output_type": "stream",
          "name": "stdout",
          "text": [
            "10*(2*7)\n",
            "10*(2*7) - Balanced\n"
          ]
        }
      ]
    },
    {
      "cell_type": "markdown",
      "source": [
        "## Task 06 – Check Brackets II\n",
        "Extend previous program, so it can handle also square and curly brackets. Note that expressions in brackets cannot overlap. So, expression ```{[()()]([[]])}{}``` is correct, but expression ```([)]``` is not."
      ],
      "metadata": {
        "collapsed": false,
        "id": "k1kh3odh6iK7"
      }
    },
    {
      "cell_type": "code",
      "execution_count": 77,
      "outputs": [
        {
          "output_type": "stream",
          "name": "stdout",
          "text": [
            "{9*7)\n",
            "ERROR\n",
            "ERROR\n"
          ]
        }
      ],
      "source": [
        "opens = {'round':0, 'square':0, 'curly':0}\n",
        "last_open = None\n",
        "brackets = '()[]{}'\n",
        "text = input()\n",
        "\n",
        "for letter in text:\n",
        "    if letter not in brackets:\n",
        "        continue\n",
        "    if letter == '(':\n",
        "        opens['round'] += 1\n",
        "        last_open = 'round'\n",
        "    if letter == ')':\n",
        "        opens['round'] -= 1\n",
        "        if last_open != 'round':\n",
        "            print('ERROR')\n",
        "    if letter == '[':\n",
        "        opens['square'] += 1\n",
        "    if letter == ']':\n",
        "        opens['square'] -= 1\n",
        "    if letter == '{':\n",
        "        opens['curly'] += 1\n",
        "    if letter == '}':\n",
        "        opens['curly'] -= 1\n",
        "    if -1 in opens.values():\n",
        "        print('ERROR')"
      ],
      "metadata": {
        "id": "2-UCbTRQ6iK7",
        "colab": {
          "base_uri": "https://localhost:8080/"
        },
        "outputId": "2870a99b-491f-4d58-abb7-ee692f2a61b1"
      }
    },
    {
      "cell_type": "markdown",
      "source": [
        "## Task 07 – Queue\n",
        "Write a program that simulates a queue. It will read strings from the input. Consider these inputs as names of people coming to the end of a queue. Whenever “next” is given as input, the program will print out the name on the turn. The program finishes as soon as the queue is empty."
      ],
      "metadata": {
        "collapsed": false,
        "id": "tc-8rPlP6iK7"
      }
    },
    {
      "cell_type": "code",
      "source": [
        "from collections import deque\n",
        "string= input()\n",
        "new=deque()\n",
        "\n",
        "print(new)\n",
        "\n"
      ],
      "metadata": {
        "colab": {
          "base_uri": "https://localhost:8080/"
        },
        "id": "wQK_Jy8kvna1",
        "outputId": "dc776cf4-fbe9-4ed8-a060-c0b6c1d22e90"
      },
      "execution_count": 100,
      "outputs": [
        {
          "output_type": "stream",
          "name": "stdout",
          "text": [
            "gh\n",
            "deque([])\n"
          ]
        }
      ]
    },
    {
      "cell_type": "markdown",
      "source": [
        "## Task 08 – Unlimited Power\n",
        "Write a function with two arguments – $x$ and $n$. The function returns the value of $x^n$. Use [recursion](https://realpython.com/python-thinking-recursively/#recursive-data-structures-in-python)."
      ],
      "metadata": {
        "collapsed": false,
        "id": "eIhaN3g36iK8"
      }
    },
    {
      "cell_type": "code",
      "execution_count": null,
      "outputs": [],
      "source": [],
      "metadata": {
        "id": "KSGHEAeL6iK8"
      }
    },
    {
      "cell_type": "markdown",
      "source": [
        "## Task 09 – Unlimited Power II\n",
        "Using function for factorial and function $x^n$ from previous task, write a program that reads value of $x$ and prints approximate value of $e^x$. Use this formula (Taylor series) for calculation\n",
        "$$ e^x = 1 + x + \\frac{x^2}{2!} + \\frac{x^3}{3!} + ... + \\frac{x^n}{n!} $$\n",
        "\n",
        "To get precise value of $e^x$, the series would have to be infinite. Suppose that there is some required accuracy, so the calculation finishes as soon as the value of the next element is smaller than given threshold (e.g., 0.000001)."
      ],
      "metadata": {
        "collapsed": false,
        "id": "WBh2WBXY6iK8"
      }
    },
    {
      "cell_type": "code",
      "execution_count": null,
      "outputs": [],
      "source": [],
      "metadata": {
        "id": "tRaZgBVX6iK9"
      }
    },
    {
      "cell_type": "markdown",
      "source": [
        "## Acknowledgements\n",
        "\n",
        "Redmond, Hsu, Saini, Gupta, Ramsey, Kondrich, Capoor, Cohen, Borus, Kincaid, Malik, and many others. - Stanford CS41"
      ],
      "metadata": {
        "collapsed": false,
        "id": "Wl9JCEYM6iK-"
      }
    },
    {
      "cell_type": "code",
      "execution_count": null,
      "outputs": [],
      "source": [],
      "metadata": {
        "id": "Bx-WQj4v6iK-"
      }
    }
  ],
  "metadata": {
    "kernelspec": {
      "display_name": "Python 3",
      "language": "python",
      "name": "python3"
    },
    "language_info": {
      "codemirror_mode": {
        "name": "ipython",
        "version": 2
      },
      "file_extension": ".py",
      "mimetype": "text/x-python",
      "name": "python",
      "nbconvert_exporter": "python",
      "pygments_lexer": "ipython2",
      "version": "2.7.6"
    },
    "colab": {
      "provenance": []
    }
  },
  "nbformat": 4,
  "nbformat_minor": 0
}